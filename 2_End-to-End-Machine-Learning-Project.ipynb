{
 "cells": [
  {
   "cell_type": "markdown",
   "id": "680fbcd0-4b39-4227-8703-fff36902fecb",
   "metadata": {},
   "source": [
    "Fetch and load the data"
   ]
  },
  {
   "cell_type": "code",
   "execution_count": 1,
   "id": "304fd579",
   "metadata": {},
   "outputs": [],
   "source": [
    "from pathlib import Path\n",
    "import pandas as pd\n"
   ]
  },
  {
   "cell_type": "markdown",
   "id": "81a6cc9a",
   "metadata": {},
   "source": []
  }
 ],
 "metadata": {
  "kernelspec": {
   "display_name": "Python 3 (ipykernel)",
   "language": "python",
   "name": "python3"
  },
  "language_info": {
   "codemirror_mode": {
    "name": "ipython",
    "version": 3
   },
   "file_extension": ".py",
   "mimetype": "text/x-python",
   "name": "python",
   "nbconvert_exporter": "python",
   "pygments_lexer": "ipython3",
   "version": "3.9.18"
  }
 },
 "nbformat": 4,
 "nbformat_minor": 5
}
